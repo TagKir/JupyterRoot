{
 "cells": [
  {
   "cell_type": "code",
   "execution_count": 33,
   "id": "e2378c6c",
   "metadata": {},
   "outputs": [],
   "source": [
    "import pandas as pd\n",
    "from heapq import nlargest\n",
    "import matplotlib.pyplot as plt\n",
    "import datetime as dt   \n",
    "import calendar\n",
    "\n",
    "\n",
    "# 1: \n",
    "df_calls = pd.read_csv(r\"C:\\Users\\tagir\\Downloads\\calls.csv\")\n",
    "df_messages = pd.read_csv(r\"C:\\Users\\tagir\\Downloads\\messages.csv\")\n",
    "df_tarifinfo = pd.read_csv(r\"C:\\Users\\tagir\\Downloads\\tariffs.csv\")\n",
    "df_users = pd.read_csv(r\"C:\\Users\\tagir\\Downloads\\users.csv\")\n",
    "df_internet = pd.read_csv(r\"C:\\Users\\tagir\\Downloads\\internet.csv\")\n",
    "df_internet.drop('Unnamed: 0', axis=1, inplace=True)\n",
    "\n",
    "\n",
    "#df_calls.info()\n",
    "#df_calls['duration'].value_counts()\n",
    "df_calls.loc[df_calls[\"duration\"] == 0.0, \"duration\"] = 0.1"
   ]
  },
  {
   "cell_type": "code",
   "execution_count": 2,
   "id": "b29d27d6",
   "metadata": {},
   "outputs": [
    {
     "name": "stdout",
     "output_type": "stream",
     "text": [
      "hello\n"
     ]
    }
   ],
   "source": [
    "print('hello')"
   ]
  },
  {
   "cell_type": "code",
   "execution_count": null,
   "id": "fe25851e",
   "metadata": {},
   "outputs": [],
   "source": []
  }
 ],
 "metadata": {
  "kernelspec": {
   "display_name": "Python 3 (ipykernel)",
   "language": "python",
   "name": "python3"
  },
  "language_info": {
   "codemirror_mode": {
    "name": "ipython",
    "version": 3
   },
   "file_extension": ".py",
   "mimetype": "text/x-python",
   "name": "python",
   "nbconvert_exporter": "python",
   "pygments_lexer": "ipython3",
   "version": "3.9.12"
  }
 },
 "nbformat": 4,
 "nbformat_minor": 5
}
