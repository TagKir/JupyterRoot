{
 "cells": [
  {
   "cell_type": "code",
   "execution_count": 1,
   "id": "1367a1d7",
   "metadata": {},
   "outputs": [
    {
     "name": "stdout",
     "output_type": "stream",
     "text": [
      "Hello world\n"
     ]
    }
   ],
   "source": [
    "print('Hello world')"
   ]
  },
  {
   "cell_type": "code",
   "execution_count": 25,
   "id": "c8f259a5",
   "metadata": {},
   "outputs": [],
   "source": [
    "class MAESTRO_S:\n",
    "    def __init__(self, text):\n",
    "        self.text=text\n",
    "        self.unitext=text\n",
    "    def print_text(self):\n",
    "        print(self.unitext)\n",
    "    def lenof_(self):  \n",
    "        print(self.text.count('_'))\n",
    "    def cutter(self):\n",
    "        print(self.unitext.replace('_',''))\n",
    "    def reload(self):\n",
    "        if self.unitext.count('_')==0:\n",
    "            self.unitext=self.text\n",
    "        print(self.unitext)\n",
    "    "
   ]
  },
  {
   "cell_type": "code",
   "execution_count": 27,
   "id": "3ccc77ee",
   "metadata": {},
   "outputs": [
    {
     "name": "stdout",
     "output_type": "stream",
     "text": [
      "2\n",
      "Привет\n",
      "П_рив_ет\n"
     ]
    }
   ],
   "source": [
    "m=MAESTRO_S('П_рив_ет')\n",
    "m.lenof_()\n",
    "m.cutter()\n",
    "m.print_text()"
   ]
  },
  {
   "cell_type": "code",
   "execution_count": null,
   "id": "b6dd3be4",
   "metadata": {},
   "outputs": [],
   "source": []
  },
  {
   "cell_type": "code",
   "execution_count": null,
   "id": "c639f5c9",
   "metadata": {},
   "outputs": [],
   "source": []
  }
 ],
 "metadata": {
  "interpreter": {
   "hash": "ed9133f600d2ec39949270f59c6a8c509b222808f681fa2922fd018e2475738a"
  },
  "kernelspec": {
   "display_name": "Python 3",
   "language": "python",
   "name": "python3"
  },
  "language_info": {
   "codemirror_mode": {
    "name": "ipython",
    "version": 3
   },
   "file_extension": ".py",
   "mimetype": "text/x-python",
   "name": "python",
   "nbconvert_exporter": "python",
   "pygments_lexer": "ipython3",
   "version": "3.8.8"
  }
 },
 "nbformat": 4,
 "nbformat_minor": 5
}
