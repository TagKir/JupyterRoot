{
 "cells": [
  {
   "cell_type": "code",
   "execution_count": null,
   "metadata": {},
   "outputs": [],
   "source": [
    "# https://habr.com/ru/post/415829/"
   ]
  },
  {
   "cell_type": "code",
   "execution_count": 1,
   "metadata": {},
   "outputs": [],
   "source": [
    "class Question:\n",
    "\n",
    "    def __init__(self, text, is_true, explanation):\n",
    "        self.text = text\n",
    "        self.is_true = is_true\n",
    "        self.explanation = explanation"
   ]
  },
  {
   "cell_type": "code",
   "execution_count": 2,
   "metadata": {},
   "outputs": [],
   "source": [
    "from dataclasses import dataclass\n",
    "\n",
    "@dataclass\n",
    "class Question:\n",
    "    text: str  # Без этой анотации типов класс не получится\n",
    "    is_true: bool\n",
    "    explanation: str"
   ]
  },
  {
   "cell_type": "code",
   "execution_count": 3,
   "metadata": {},
   "outputs": [
    {
     "data": {
      "text/plain": [
       "'test'"
      ]
     },
     "execution_count": 3,
     "metadata": {},
     "output_type": "execute_result"
    }
   ],
   "source": [
    "q = Question('test', True, 'because')\n",
    "q.text"
   ]
  },
  {
   "cell_type": "code",
   "execution_count": 4,
   "metadata": {},
   "outputs": [
    {
     "ename": "TypeError",
     "evalue": "Question.__init__() missing 1 required positional argument: 'explanation'",
     "output_type": "error",
     "traceback": [
      "\u001b[1;31m---------------------------------------------------------------------------\u001b[0m",
      "\u001b[1;31mTypeError\u001b[0m                                 Traceback (most recent call last)",
      "\u001b[1;32mc:\\Users\\tagir\\JupyterRoot\\JupyterRoot\\Курс по python\\9.Движемся дальше\\Урок95---Введение в dataclasses.ipynb Cell 4'\u001b[0m in \u001b[0;36m<cell line: 1>\u001b[1;34m()\u001b[0m\n\u001b[1;32m----> <a href='vscode-notebook-cell:/c%3A/Users/tagir/JupyterRoot/JupyterRoot/%D0%9A%D1%83%D1%80%D1%81%20%D0%BF%D0%BE%20python/9.%D0%94%D0%B2%D0%B8%D0%B6%D0%B5%D0%BC%D1%81%D1%8F%20%D0%B4%D0%B0%D0%BB%D1%8C%D1%88%D0%B5/%D0%A3%D1%80%D0%BE%D0%BA95---%D0%92%D0%B2%D0%B5%D0%B4%D0%B5%D0%BD%D0%B8%D0%B5%20%D0%B2%20dataclasses.ipynb#ch0000004?line=0'>1</a>\u001b[0m q \u001b[39m=\u001b[39m Question(\u001b[39m'\u001b[39;49m\u001b[39mtest\u001b[39;49m\u001b[39m'\u001b[39;49m, \u001b[39mTrue\u001b[39;49;00m)\n",
      "\u001b[1;31mTypeError\u001b[0m: Question.__init__() missing 1 required positional argument: 'explanation'"
     ]
    }
   ],
   "source": [
    "q = Question('test', True)"
   ]
  },
  {
   "cell_type": "code",
   "execution_count": 5,
   "metadata": {},
   "outputs": [],
   "source": [
    "@dataclass\n",
    "class Question:\n",
    "    text: str = ''\n",
    "    is_true: bool = False\n",
    "    explanation: str = ''"
   ]
  },
  {
   "cell_type": "code",
   "execution_count": 7,
   "metadata": {},
   "outputs": [
    {
     "data": {
      "text/plain": [
       "'hi'"
      ]
     },
     "execution_count": 7,
     "metadata": {},
     "output_type": "execute_result"
    }
   ],
   "source": [
    "q = Question()\n",
    "q.text = 'hi'\n",
    "q.text"
   ]
  },
  {
   "cell_type": "code",
   "execution_count": 9,
   "metadata": {},
   "outputs": [],
   "source": [
    "@dataclass(frozen=True)\n",
    "class Question:\n",
    "    text: str\n",
    "    is_true: bool\n",
    "    explanation: str"
   ]
  },
  {
   "cell_type": "code",
   "execution_count": 12,
   "metadata": {},
   "outputs": [
    {
     "data": {
      "text/plain": [
       "'test'"
      ]
     },
     "execution_count": 12,
     "metadata": {},
     "output_type": "execute_result"
    }
   ],
   "source": [
    "q = Question('test', True, 'because')\n",
    "q.text"
   ]
  },
  {
   "cell_type": "code",
   "execution_count": 13,
   "metadata": {},
   "outputs": [
    {
     "ename": "FrozenInstanceError",
     "evalue": "cannot assign to field 'text'",
     "output_type": "error",
     "traceback": [
      "\u001b[1;31m---------------------------------------------------------------------------\u001b[0m",
      "\u001b[1;31mFrozenInstanceError\u001b[0m                       Traceback (most recent call last)",
      "\u001b[1;32mc:\\Users\\tagir\\JupyterRoot\\JupyterRoot\\Курс по python\\9.Движемся дальше\\Урок95---Введение в dataclasses.ipynb Cell 9'\u001b[0m in \u001b[0;36m<cell line: 1>\u001b[1;34m()\u001b[0m\n\u001b[1;32m----> <a href='vscode-notebook-cell:/c%3A/Users/tagir/JupyterRoot/JupyterRoot/%D0%9A%D1%83%D1%80%D1%81%20%D0%BF%D0%BE%20python/9.%D0%94%D0%B2%D0%B8%D0%B6%D0%B5%D0%BC%D1%81%D1%8F%20%D0%B4%D0%B0%D0%BB%D1%8C%D1%88%D0%B5/%D0%A3%D1%80%D0%BE%D0%BA95---%D0%92%D0%B2%D0%B5%D0%B4%D0%B5%D0%BD%D0%B8%D0%B5%20%D0%B2%20dataclasses.ipynb#ch0000009?line=0'>1</a>\u001b[0m q\u001b[39m.\u001b[39mtext \u001b[39m=\u001b[39m \u001b[39m'\u001b[39m\u001b[39mchange\u001b[39m\u001b[39m'\u001b[39m\n",
      "File \u001b[1;32m<string>:4\u001b[0m, in \u001b[0;36m__setattr__\u001b[1;34m(self, name, value)\u001b[0m\n",
      "\u001b[1;31mFrozenInstanceError\u001b[0m: cannot assign to field 'text'"
     ]
    }
   ],
   "source": [
    "q.text = 'change'"
   ]
  }
 ],
 "metadata": {
  "kernelspec": {
   "display_name": "Python 3.10.4 64-bit",
   "language": "python",
   "name": "python3"
  },
  "language_info": {
   "codemirror_mode": {
    "name": "ipython",
    "version": 3
   },
   "file_extension": ".py",
   "mimetype": "text/x-python",
   "name": "python",
   "nbconvert_exporter": "python",
   "pygments_lexer": "ipython3",
   "version": "3.10.4"
  },
  "orig_nbformat": 4,
  "vscode": {
   "interpreter": {
    "hash": "e895b1eccb3ac1bc3ee41face7b3a6edceb1825a6134b8d6cd6248216b77e5a1"
   }
  }
 },
 "nbformat": 4,
 "nbformat_minor": 2
}
