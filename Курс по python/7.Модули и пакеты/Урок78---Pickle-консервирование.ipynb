{
 "cells": [
  {
   "cell_type": "code",
   "execution_count": null,
   "metadata": {},
   "outputs": [],
   "source": [
    "# Сериализация в программировании-это процесс перевода какой-либо структуры данных в последовательность (допустим-битов)\n",
    "# Десериализация-обратная к сериализация операция\n",
    "# Сериализация==Pickling         Pickling-дословно:маринование\n",
    " # * getstate-определяет то,что будет пиклится, а setstate-детализирует процесс анпиклинга"
   ]
  },
  {
   "cell_type": "code",
   "execution_count": 35,
   "metadata": {},
   "outputs": [],
   "source": [
    "class Character:\n",
    "\t\n",
    "\tdef __init__(self, race, damage = 10):\n",
    "\t\tself.race = race\n",
    "\t\tself.damage = damage\n",
    "\t\tself.health = 100\n",
    "\n",
    "\tdef hit(self, damage):\n",
    "\t\tself.health -= damage\n",
    "\n",
    "\tdef is_death(self):\n",
    "\t\treturn self.health == 0\n",
    "\t\n",
    "\tdef __setstate__(self, state):\n",
    "\t\tself.race = state.get('race', 'Elf') # Если race нет-то это будет Elf\n",
    "\t\tself.damage = state.get('damage', 10)\n",
    "\t\tself.armor = state.get()"
   ]
  },
  {
   "cell_type": "code",
   "execution_count": 29,
   "metadata": {},
   "outputs": [
    {
     "data": {
      "text/plain": [
       "90"
      ]
     },
     "execution_count": 29,
     "metadata": {},
     "output_type": "execute_result"
    }
   ],
   "source": [
    "c = Character('Elf')\n",
    "c.hit(10)\n",
    "c.health"
   ]
  },
  {
   "cell_type": "code",
   "execution_count": 30,
   "metadata": {},
   "outputs": [],
   "source": [
    "# Если я хочу данные экземпляра(c) в файл:\n",
    "import pickle\n",
    "\n",
    "with open(r'C:\\Users\\tagir\\JupyterRoot\\game.bin', 'w+b') as f:\n",
    "\tpickle.dump(c, f)# dumb-превращает файл в битовое представление"
   ]
  },
  {
   "cell_type": "code",
   "execution_count": 36,
   "metadata": {},
   "outputs": [],
   "source": [
    "с = None"
   ]
  },
  {
   "cell_type": "code",
   "execution_count": 37,
   "metadata": {},
   "outputs": [
    {
     "ename": "TypeError",
     "evalue": "get expected at least 1 argument, got 0",
     "output_type": "error",
     "traceback": [
      "\u001b[1;31m---------------------------------------------------------------------------\u001b[0m",
      "\u001b[1;31mTypeError\u001b[0m                                 Traceback (most recent call last)",
      "\u001b[1;32m~\\AppData\\Local\\Temp/ipykernel_10984/3115011299.py\u001b[0m in \u001b[0;36m<module>\u001b[1;34m\u001b[0m\n\u001b[0;32m      1\u001b[0m \u001b[1;32mwith\u001b[0m \u001b[0mopen\u001b[0m\u001b[1;33m(\u001b[0m\u001b[1;34mr'C:\\Users\\tagir\\JupyterRoot\\game.bin'\u001b[0m\u001b[1;33m,\u001b[0m \u001b[1;34m'rb'\u001b[0m\u001b[1;33m)\u001b[0m \u001b[1;32mas\u001b[0m \u001b[0mf\u001b[0m\u001b[1;33m:\u001b[0m\u001b[1;33m\u001b[0m\u001b[1;33m\u001b[0m\u001b[0m\n\u001b[1;32m----> 2\u001b[1;33m         \u001b[0mc\u001b[0m \u001b[1;33m=\u001b[0m \u001b[0mpickle\u001b[0m\u001b[1;33m.\u001b[0m\u001b[0mload\u001b[0m\u001b[1;33m(\u001b[0m\u001b[0mf\u001b[0m\u001b[1;33m)\u001b[0m\u001b[1;33m\u001b[0m\u001b[1;33m\u001b[0m\u001b[0m\n\u001b[0m\u001b[0;32m      3\u001b[0m \u001b[1;33m\u001b[0m\u001b[0m\n\u001b[0;32m      4\u001b[0m \u001b[0mprint\u001b[0m\u001b[1;33m(\u001b[0m\u001b[0mc\u001b[0m\u001b[1;33m.\u001b[0m\u001b[0mhealth\u001b[0m\u001b[1;33m)\u001b[0m\u001b[1;33m\u001b[0m\u001b[1;33m\u001b[0m\u001b[0m\n",
      "\u001b[1;32m~\\AppData\\Local\\Temp/ipykernel_10984/1160392785.py\u001b[0m in \u001b[0;36m__setstate__\u001b[1;34m(self, state)\u001b[0m\n\u001b[0;32m     15\u001b[0m                 \u001b[0mself\u001b[0m\u001b[1;33m.\u001b[0m\u001b[0mrace\u001b[0m \u001b[1;33m=\u001b[0m \u001b[0mstate\u001b[0m\u001b[1;33m.\u001b[0m\u001b[0mget\u001b[0m\u001b[1;33m(\u001b[0m\u001b[1;34m'race'\u001b[0m\u001b[1;33m,\u001b[0m \u001b[1;34m'Elf'\u001b[0m\u001b[1;33m)\u001b[0m \u001b[1;31m# Если race нет-то это будет Elf\u001b[0m\u001b[1;33m\u001b[0m\u001b[1;33m\u001b[0m\u001b[0m\n\u001b[0;32m     16\u001b[0m                 \u001b[0mself\u001b[0m\u001b[1;33m.\u001b[0m\u001b[0mdamage\u001b[0m \u001b[1;33m=\u001b[0m \u001b[0mstate\u001b[0m\u001b[1;33m.\u001b[0m\u001b[0mget\u001b[0m\u001b[1;33m(\u001b[0m\u001b[1;34m'damage'\u001b[0m\u001b[1;33m,\u001b[0m \u001b[1;36m10\u001b[0m\u001b[1;33m)\u001b[0m\u001b[1;33m\u001b[0m\u001b[1;33m\u001b[0m\u001b[0m\n\u001b[1;32m---> 17\u001b[1;33m                 \u001b[0mself\u001b[0m\u001b[1;33m.\u001b[0m\u001b[0marmor\u001b[0m \u001b[1;33m=\u001b[0m \u001b[0mstate\u001b[0m\u001b[1;33m.\u001b[0m\u001b[0mget\u001b[0m\u001b[1;33m(\u001b[0m\u001b[1;33m)\u001b[0m\u001b[1;33m\u001b[0m\u001b[1;33m\u001b[0m\u001b[0m\n\u001b[0m",
      "\u001b[1;31mTypeError\u001b[0m: get expected at least 1 argument, got 0"
     ]
    }
   ],
   "source": [
    "with open(r'C:\\Users\\tagir\\JupyterRoot\\game.bin', 'rb') as f:\n",
    "\tc = pickle.load(f)\n",
    "\n",
    "print(c.health)"
   ]
  },
  {
   "cell_type": "code",
   "execution_count": 38,
   "metadata": {},
   "outputs": [
    {
     "name": "stdout",
     "output_type": "stream",
     "text": [
      "{'race': 'Elf', 'damage': 10, 'health': 90}\n"
     ]
    }
   ],
   "source": [
    "print(c.__dict__)"
   ]
  },
  {
   "cell_type": "code",
   "execution_count": null,
   "metadata": {},
   "outputs": [],
   "source": [
    " # * Но если мы добавим атрибут armor\n",
    "class Character:\n",
    "\t\n",
    "\tdef __init__(self, race, armor, damage = 10):\n",
    "\t\tself.race = race\n",
    "\t\tself.damage = damage\n",
    "\t\tself.health = 100\n",
    "\t\tself.armor = armor\n",
    "\n",
    "\tdef hit(self, damage):\n",
    "\t\tself.health -= damage\n",
    "\n",
    "\tdef is_death(self):\n",
    "\t\treturn self.health == 0"
   ]
  },
  {
   "cell_type": "code",
   "execution_count": null,
   "metadata": {},
   "outputs": [],
   "source": [
    " # * И выполним загрузку\n",
    "with open(r'C:\\Users\\tagir\\JupyterRoot\\game.bin', 'rb') as f:\n",
    "\tc = pickle.load(f)\n",
    "\n",
    "print(c.health)"
   ]
  },
  {
   "cell_type": "code",
   "execution_count": 24,
   "metadata": {},
   "outputs": [
    {
     "name": "stdout",
     "output_type": "stream",
     "text": [
      "{'race': 'Elf', 'damage': 10, 'armor': None}\n"
     ]
    }
   ],
   "source": [
    " # * То:\n",
    "print(c.__dict__)\n",
    " # * Чтобы это исправить,нам помогут dander методы getstate и setstate\n",
    " # * getstate-определяет то,что будет пиклится, а setstate-детализирует процесс анпиклинга"
   ]
  },
  {
   "cell_type": "code",
   "execution_count": null,
   "metadata": {},
   "outputs": [],
   "source": [
    "class Character:\n",
    "\t\n",
    "\tdef __init__(self, race, damage = 10):\n",
    "\t\tself.race = race\n",
    "\t\tself.damage = damage\n",
    "\t\tself.health = 100\n",
    "\n",
    "\tdef hit(self, damage):\n",
    "\t\tself.health -= damage\n",
    "\n",
    "\tdef is_death(self):\n",
    "\t\treturn self.health == 0\n",
    "\t\n",
    "\tdef __setstate__(self, state):\n",
    "\t\tself.race = state.get('race', 'Elf') # Если race нет-то это будет Elf\n",
    "\t\tself.damage = state.get('damege', 10)\n",
    "\t\tself.armor = state.get('armor', 20)\n",
    "\t\tself.health = state.get('health', 100)"
   ]
  },
  {
   "cell_type": "code",
   "execution_count": null,
   "metadata": {},
   "outputs": [],
   "source": [
    "with open(r'C:\\Users\\tagir\\JupyterRoot\\game.bin', 'rb') as f:\n",
    "\tc = pickle.load(f)\n",
    "\n",
    "print(c.health)"
   ]
  },
  {
   "cell_type": "code",
   "execution_count": null,
   "metadata": {},
   "outputs": [],
   "source": [
    "print(c.__dict__)"
   ]
  },
  {
   "cell_type": "code",
   "execution_count": null,
   "metadata": {},
   "outputs": [],
   "source": [
    " # * ПЛЮС----В методе getstate-если мы допустим вызовим атрибут race, то в процессе пиклинга в памяти сохранится только он"
   ]
  }
 ],
 "metadata": {
  "interpreter": {
   "hash": "81d0071eb0c7a3fd104fe6b7c250957c736efbd42ce2420051cf192df9a8835a"
  },
  "kernelspec": {
   "display_name": "Python 3.10.1 64-bit",
   "language": "python",
   "name": "python3"
  },
  "language_info": {
   "codemirror_mode": {
    "name": "ipython",
    "version": 3
   },
   "file_extension": ".py",
   "mimetype": "text/x-python",
   "name": "python",
   "nbconvert_exporter": "python",
   "pygments_lexer": "ipython3",
   "version": "3.10.1"
  },
  "orig_nbformat": 4
 },
 "nbformat": 4,
 "nbformat_minor": 2
}
