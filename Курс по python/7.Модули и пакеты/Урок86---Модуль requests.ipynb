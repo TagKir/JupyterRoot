{
 "cells": [
  {
   "cell_type": "code",
   "execution_count": null,
   "metadata": {},
   "outputs": [],
   "source": [
    "import requests"
   ]
  },
  {
   "cell_type": "code",
   "execution_count": null,
   "metadata": {},
   "outputs": [],
   "source": [
    "response = requests.get(\"https://www.engineerspock.com/\")"
   ]
  },
  {
   "cell_type": "code",
   "execution_count": null,
   "metadata": {},
   "outputs": [],
   "source": [
    "response # 200 - это номер ответа,который говорит о том,что запрос прошёл успешно(НО НУЖНО ПОМНИТЬ,ЧТО 200 НЕ ЕДИНСТВЕННЫЙ ПРАВИЛЬНЫЙ НОМЕР ОТВЕТА)"
   ]
  },
  {
   "cell_type": "code",
   "execution_count": null,
   "metadata": {},
   "outputs": [],
   "source": [
    "type(response)"
   ]
  },
  {
   "cell_type": "code",
   "execution_count": null,
   "metadata": {},
   "outputs": [],
   "source": [
    "response.status_code"
   ]
  },
  {
   "cell_type": "code",
   "execution_count": null,
   "metadata": {},
   "outputs": [],
   "source": [
    "if response:\n",
    "\tprint('Works!')"
   ]
  },
  {
   "cell_type": "code",
   "execution_count": null,
   "metadata": {},
   "outputs": [],
   "source": [
    "from requests import HTTPError\n",
    "\n",
    "for url in [\"https://www.engineerspock.com/\", \"https://www.trollingpro.com/\"]:# 2-ого сайта не существует,поэтому будет ошибка:\t\n",
    "\ttry:\n",
    "\t\tresponce = requests.get(url)\n",
    "\n",
    "\t\tresponse.raise_for_status()\n",
    "\texcept HTTPError as http_err:\n",
    "\t\tprint(f'Error:{http_err}')\n",
    "\texcept Exception as err:\n",
    "\t\tprint(f'Unknown error: {err}')\n",
    "\telse:\n",
    "\t\tprint(\"Connected Successfully!\")"
   ]
  },
  {
   "cell_type": "code",
   "execution_count": null,
   "metadata": {},
   "outputs": [],
   "source": [
    "response = requests.get(\"https://www.engineerspock.com/\")\n",
    "responce.content"
   ]
  },
  {
   "cell_type": "code",
   "execution_count": null,
   "metadata": {},
   "outputs": [],
   "source": [
    "responce.encoding = 'utf -8'\n",
    "responce.text"
   ]
  },
  {
   "cell_type": "code",
   "execution_count": null,
   "metadata": {},
   "outputs": [],
   "source": [
    "responce = requests.get(\"https://api.github.com\")\n",
    "responce.text"
   ]
  },
  {
   "cell_type": "code",
   "execution_count": null,
   "metadata": {},
   "outputs": [],
   "source": [
    "data = responce.json()\n",
    "data"
   ]
  },
  {
   "cell_type": "code",
   "execution_count": null,
   "metadata": {},
   "outputs": [],
   "source": [
    "blog_response = requests.get('https://www.engineerspock.com/')\n",
    "github_response = requests.get('https://api.github.com')"
   ]
  },
  {
   "cell_type": "code",
   "execution_count": null,
   "metadata": {},
   "outputs": [],
   "source": [
    "print(blog_response.headers, end='\\n')\n",
    "print('')\n",
    "print(github_response.headers, end='\\n')"
   ]
  },
  {
   "cell_type": "code",
   "execution_count": null,
   "metadata": {},
   "outputs": [],
   "source": [
    "blog_response.headers[\"content-type\"]"
   ]
  },
  {
   "cell_type": "code",
   "execution_count": null,
   "metadata": {},
   "outputs": [],
   "source": [
    "placeholder_response = requests.get(\"http://jsonplaceholder.typicode.com/comments\", params=b'postId=1')\n",
    "placeholder_response.json()"
   ]
  },
  {
   "cell_type": "code",
   "execution_count": null,
   "metadata": {},
   "outputs": [],
   "source": [
    "# Я это уже делал в уроке82-json\n",
    "\n",
    "import json\n",
    "\n",
    "class Tournament:\n",
    "\n",
    "\tdef __init__(self, name, year):\n",
    "\t\tself.name = name\n",
    "\t\tself.year = year\n",
    "\n",
    "\t@classmethod\n",
    "\tdef from_json(cls, json_data):\n",
    "\t\treturn cls(**json_data)\n",
    "\n",
    "\n",
    "class ChessPlayer:\n",
    "\n",
    "\tdef __init__(self, tournament):\n",
    "\t\tself.tournament = tournament\n",
    "\n",
    "\t@classmethod\n",
    "\tdef from_json(cls, json_data):\n",
    "\t\ttournament = list(map(Tournament.from_json, json_data[\"tournament\"]))\n",
    "\t\treturn cls(tournament)\n",
    "\n",
    "t1 = Tournament(\"Aeroflot Open\", 2010)\n",
    "t2 = Tournament(\"FIDE World Cup\", 2018)\n",
    "t3 = Tournament(\"FIDE Grand Prix\", 2016)\n",
    "\n",
    "p1 = ChessPlayer([t1, t2, t3])\n",
    "\n",
    "json_data = json.dumps(p1, default=lambda obj: obj.__dict__, indent = 4, sort_keys=True)"
   ]
  },
  {
   "cell_type": "code",
   "execution_count": 17,
   "metadata": {},
   "outputs": [
    {
     "name": "stdout",
     "output_type": "stream",
     "text": [
      "\"{\\n    \\\"tournament\\\": [\\n        {\\n            \\\"name\\\": \\\"Aeroflot Open\\\",\\n            \\\"year\\\": 2010\\n        },\\n        {\\n            \\\"name\\\": \\\"FIDE World Cup\\\",\\n            \\\"year\\\": 2018\\n        },\\n        {\\n            \\\"name\\\": \\\"FIDE Grand Prix\\\",\\n            \\\"year\\\": 2016\\n        }\\n    ]\\n}\"\n"
     ]
    }
   ],
   "source": [
    "responce = requests.post(\"https://httpbin.org/post\", json=json_data)\n",
    "json_response = responce.json()\n",
    "print(json_response['data'])"
   ]
  },
  {
   "cell_type": "code",
   "execution_count": 18,
   "metadata": {},
   "outputs": [
    {
     "data": {
      "text/plain": [
       "'application/json'"
      ]
     },
     "execution_count": 18,
     "metadata": {},
     "output_type": "execute_result"
    }
   ],
   "source": [
    "json_response['headers']['Content-Type']"
   ]
  },
  {
   "cell_type": "code",
   "execution_count": 19,
   "metadata": {},
   "outputs": [
    {
     "data": {
      "text/plain": [
       "{'message': 'Requires authentication',\n",
       " 'documentation_url': 'https://docs.github.com/rest/reference/users#get-the-authenticated-user'}"
      ]
     },
     "execution_count": 19,
     "metadata": {},
     "output_type": "execute_result"
    }
   ],
   "source": [
    "from getpass import getpass\n",
    "auth_response = requests.get('https://api.github.com/user', auth=('EngineerSpock', getpass()))\n",
    "# Сейчас мы зашли на сайт github и попытались зайти на аккаунт лектора,но мы не знаем пароль,поэтому следующая строчка ничего не вызывет\n",
    "auth_response.json() "
   ]
  },
  {
   "cell_type": "code",
   "execution_count": null,
   "metadata": {},
   "outputs": [],
   "source": []
  }
 ],
 "metadata": {
  "kernelspec": {
   "display_name": "Python 3.10.4 64-bit",
   "language": "python",
   "name": "python3"
  },
  "language_info": {
   "codemirror_mode": {
    "name": "ipython",
    "version": 3
   },
   "file_extension": ".py",
   "mimetype": "text/x-python",
   "name": "python",
   "nbconvert_exporter": "python",
   "pygments_lexer": "ipython3",
   "version": "3.10.4"
  },
  "orig_nbformat": 4,
  "vscode": {
   "interpreter": {
    "hash": "e895b1eccb3ac1bc3ee41face7b3a6edceb1825a6134b8d6cd6248216b77e5a1"
   }
  }
 },
 "nbformat": 4,
 "nbformat_minor": 2
}
