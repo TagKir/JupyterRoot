{
 "cells": [
  {
   "cell_type": "code",
   "execution_count": 24,
   "metadata": {},
   "outputs": [],
   "source": [
    "import random"
   ]
  },
  {
   "cell_type": "code",
   "execution_count": 25,
   "metadata": {},
   "outputs": [],
   "source": [
    "def randoms(min, max, n):\n",
    "\treturn [random.randint(min, max) for _ in range(n)]"
   ]
  },
  {
   "cell_type": "code",
   "execution_count": 26,
   "metadata": {},
   "outputs": [
    {
     "name": "stdout",
     "output_type": "stream",
     "text": [
      "16\n",
      "27\n",
      "27\n",
      "13\n",
      "26\n"
     ]
    }
   ],
   "source": [
    "for r in randoms(10, 30, 5):\n",
    "\tprint(r)"
   ]
  },
  {
   "cell_type": "code",
   "execution_count": 27,
   "metadata": {},
   "outputs": [],
   "source": [
    "Desc=\"\"\" Все эти числа(которые сверху) сразу после исполнения кода образуются в памяти,и чтобы этого не делать(не занимать лишнее место)\n",
    "мы можем Мы можем переписать этот код,только с использованием генераторов\"\"\""
   ]
  },
  {
   "cell_type": "code",
   "execution_count": 28,
   "metadata": {},
   "outputs": [],
   "source": [
    "def randoms(min, max, n):\n",
    "\tfor i in range(n):\n",
    "\t\tyield random.randint(min, max) # * это и есть создание генератора"
   ]
  },
  {
   "cell_type": "code",
   "execution_count": 29,
   "metadata": {},
   "outputs": [
    {
     "name": "stdout",
     "output_type": "stream",
     "text": [
      "21\n",
      "21\n",
      "29\n",
      "16\n",
      "25\n"
     ]
    }
   ],
   "source": [
    "for r in randoms(10, 30, 5):\n",
    "\tprint(r)"
   ]
  },
  {
   "cell_type": "code",
   "execution_count": 30,
   "metadata": {},
   "outputs": [
    {
     "data": {
      "text/plain": [
       "<generator object randoms at 0x00000180B93B47B0>"
      ]
     },
     "execution_count": 30,
     "metadata": {},
     "output_type": "execute_result"
    }
   ],
   "source": [
    "rand_sequence = randoms(1, 10, 10)\n",
    "rand_sequence\n",
    "# *   \"generator object randoms at... \" - это значит что мы создали генератор,а это хорошо  \n",
    "#! Это называется lazy evaluations - ленивые вычисления"
   ]
  },
  {
   "cell_type": "code",
   "execution_count": 31,
   "metadata": {},
   "outputs": [
    {
     "name": "stdout",
     "output_type": "stream",
     "text": [
      "5\n",
      "3\n",
      "9\n",
      "2\n",
      "1\n",
      "9\n",
      "4\n",
      "10\n",
      "7\n",
      "2\n"
     ]
    }
   ],
   "source": [
    " #!                                       ПО ГЕНЕРАТОРУ МОЖНО ПРОЙТИСЬ ОДИН РАЗ \n",
    "for r in rand_sequence:\n",
    "\tprint(r)"
   ]
  },
  {
   "cell_type": "code",
   "execution_count": 32,
   "metadata": {},
   "outputs": [
    {
     "data": {
      "text/plain": [
       "[4, 9, 9, 9, 5]"
      ]
     },
     "execution_count": 32,
     "metadata": {},
     "output_type": "execute_result"
    }
   ],
   "source": [
    " #*                                      ТЕПЕРЬ МЫ МОЖЕМ ПРОЙТИСЬ ПО НЕМУ НЕСКОЛЬКО РАЗ\n",
    "seq = list(randoms(1, 10, 5))\n",
    "seq"
   ]
  },
  {
   "cell_type": "code",
   "execution_count": 33,
   "metadata": {},
   "outputs": [
    {
     "data": {
      "text/plain": [
       "[4, 9, 9, 9, 5]"
      ]
     },
     "execution_count": 33,
     "metadata": {},
     "output_type": "execute_result"
    }
   ],
   "source": [
    "seq"
   ]
  },
  {
   "cell_type": "code",
   "execution_count": 34,
   "metadata": {},
   "outputs": [],
   "source": [
    " # *    Мы можем сделать так,чтобы сгенерировалось 10 чисел,а материровалось только 5  ---  с помощью модуля itertools"
   ]
  },
  {
   "cell_type": "code",
   "execution_count": 35,
   "metadata": {},
   "outputs": [],
   "source": [
    "def randoms(min, max, n):\n",
    "\tfor i in range(n):\n",
    "\t\tyield random.randint(min, max)"
   ]
  },
  {
   "cell_type": "code",
   "execution_count": 36,
   "metadata": {},
   "outputs": [
    {
     "name": "stdout",
     "output_type": "stream",
     "text": [
      "[4, 6, 2, 3, 1]\n"
     ]
    }
   ],
   "source": [
    "import itertools\n",
    "\n",
    "rand_sequence = randoms(1, 10, 10)\n",
    "five_taken = list(itertools.islice(rand_sequence, 5))\n",
    "print(five_taken)"
   ]
  },
  {
   "cell_type": "code",
   "execution_count": 37,
   "metadata": {},
   "outputs": [],
   "source": [
    "def randoms(min, max):\n",
    "\twhile True:\n",
    "\t\tyield random.randint(min, max)"
   ]
  },
  {
   "cell_type": "code",
   "execution_count": 38,
   "metadata": {},
   "outputs": [
    {
     "name": "stdout",
     "output_type": "stream",
     "text": [
      "[6787, 2870, 3279, 7441, 9985]\n"
     ]
    }
   ],
   "source": [
    "rand_sequence = randoms(1, 10000)\n",
    "five_taken = list(itertools.islice(rand_sequence, 5))\n",
    "print(five_taken)"
   ]
  },
  {
   "cell_type": "code",
   "execution_count": 39,
   "metadata": {},
   "outputs": [],
   "source": [
    "def read_line_by_line(file):\n",
    "\t\"\"\"Lazy function (generator) to read line by line\"\"\"\n",
    "\twhile True:\n",
    "\t\tline = file.readline()\n",
    "\t\tif not line:\n",
    "\t\t\tbreak\n",
    "\t\tyield line"
   ]
  },
  {
   "cell_type": "code",
   "execution_count": 40,
   "metadata": {},
   "outputs": [
    {
     "ename": "FileNotFoundError",
     "evalue": "[Errno 2] No such file or directory: ''",
     "output_type": "error",
     "traceback": [
      "\u001b[1;31m---------------------------------------------------------------------------\u001b[0m",
      "\u001b[1;31mFileNotFoundError\u001b[0m                         Traceback (most recent call last)",
      "\u001b[1;32m~\\AppData\\Local\\Temp/ipykernel_28600/1372624954.py\u001b[0m in \u001b[0;36m<module>\u001b[1;34m\u001b[0m\n\u001b[1;32m----> 1\u001b[1;33m \u001b[0mfile\u001b[0m \u001b[1;33m=\u001b[0m \u001b[0mopen\u001b[0m\u001b[1;33m(\u001b[0m\u001b[1;34mf''\u001b[0m\u001b[1;33m)\u001b[0m\u001b[1;33m\u001b[0m\u001b[1;33m\u001b[0m\u001b[0m\n\u001b[0m\u001b[0;32m      2\u001b[0m \u001b[1;32mfor\u001b[0m \u001b[0mline\u001b[0m \u001b[1;32min\u001b[0m \u001b[0mread_line_by_line\u001b[0m\u001b[1;33m(\u001b[0m\u001b[0mfile\u001b[0m\u001b[1;33m)\u001b[0m\u001b[1;33m:\u001b[0m\u001b[1;33m\u001b[0m\u001b[1;33m\u001b[0m\u001b[0m\n\u001b[0;32m      3\u001b[0m         \u001b[0mprint\u001b[0m\u001b[1;33m(\u001b[0m\u001b[0mline\u001b[0m\u001b[1;33m.\u001b[0m\u001b[0mrstrip\u001b[0m\u001b[1;33m(\u001b[0m\u001b[1;33m)\u001b[0m\u001b[1;33m)\u001b[0m\u001b[1;33m\u001b[0m\u001b[1;33m\u001b[0m\u001b[0m\n",
      "\u001b[1;31mFileNotFoundError\u001b[0m: [Errno 2] No such file or directory: ''"
     ]
    }
   ],
   "source": [
    "file = open(f'')\n",
    "for line in read_line_by_line(file):\n",
    "\tprint(line.rstrip())"
   ]
  },
  {
   "cell_type": "code",
   "execution_count": null,
   "metadata": {},
   "outputs": [
    {
     "name": "stdout",
     "output_type": "stream",
     "text": [
      "9\n",
      "2\n",
      "4\n"
     ]
    }
   ],
   "source": [
    "rand_seq = randoms(1, 10)\n",
    "n = next(rand_seq)\n",
    "print(n)\n",
    "n = next(rand_seq)\n",
    "print(n)\n",
    "n = next(rand_seq)\n",
    "print(n)"
   ]
  },
  {
   "cell_type": "code",
   "execution_count": null,
   "metadata": {},
   "outputs": [
    {
     "data": {
      "text/plain": [
       "[1, 4, 9, 16]"
      ]
     },
     "execution_count": 18,
     "metadata": {},
     "output_type": "execute_result"
    }
   ],
   "source": [
    "my_list = [1, 2, 3, 4]\n",
    "\n",
    "squares = [x**2 for x in my_list]\n",
    "squares"
   ]
  },
  {
   "cell_type": "code",
   "execution_count": 45,
   "metadata": {},
   "outputs": [
    {
     "data": {
      "text/plain": [
       "<generator object <genexpr> at 0x00000180B93B5700>"
      ]
     },
     "execution_count": 45,
     "metadata": {},
     "output_type": "execute_result"
    }
   ],
   "source": [
    "squares = (x**2 for x in my_list)\n",
    "squares"
   ]
  },
  {
   "cell_type": "code",
   "execution_count": 46,
   "metadata": {},
   "outputs": [
    {
     "name": "stdout",
     "output_type": "stream",
     "text": [
      "1\n",
      "4\n",
      "9\n",
      "16\n"
     ]
    }
   ],
   "source": [
    "for i in squares:\n",
    "\tprint(i)"
   ]
  },
  {
   "cell_type": "code",
   "execution_count": null,
   "metadata": {},
   "outputs": [],
   "source": []
  }
 ],
 "metadata": {
  "interpreter": {
   "hash": "81d0071eb0c7a3fd104fe6b7c250957c736efbd42ce2420051cf192df9a8835a"
  },
  "kernelspec": {
   "display_name": "Python 3.10.2 64-bit",
   "language": "python",
   "name": "python3"
  },
  "language_info": {
   "codemirror_mode": {
    "name": "ipython",
    "version": 3
   },
   "file_extension": ".py",
   "mimetype": "text/x-python",
   "name": "python",
   "nbconvert_exporter": "python",
   "pygments_lexer": "ipython3",
   "version": "3.10.2"
  },
  "orig_nbformat": 4
 },
 "nbformat": 4,
 "nbformat_minor": 2
}
