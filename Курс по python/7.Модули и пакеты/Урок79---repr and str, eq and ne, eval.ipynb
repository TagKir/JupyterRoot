{
 "cells": [
  {
   "cell_type": "code",
   "execution_count": 2,
   "metadata": {},
   "outputs": [],
   "source": [
    "lst = [1, 2, 3]"
   ]
  },
  {
   "cell_type": "code",
   "execution_count": 3,
   "metadata": {},
   "outputs": [
    {
     "data": {
      "text/plain": [
       "'[1, 2, 3]'"
      ]
     },
     "execution_count": 3,
     "metadata": {},
     "output_type": "execute_result"
    }
   ],
   "source": [
    "repr(lst)"
   ]
  },
  {
   "cell_type": "code",
   "execution_count": 4,
   "metadata": {},
   "outputs": [
    {
     "name": "stdout",
     "output_type": "stream",
     "text": [
      "[1, 2, 3]\n"
     ]
    }
   ],
   "source": [
    "print(lst)"
   ]
  },
  {
   "cell_type": "code",
   "execution_count": 5,
   "metadata": {},
   "outputs": [],
   "source": [
    " # * Отличие dunder методов str и repr: \n",
    "# print - str\n",
    "# repr - repr"
   ]
  },
  {
   "cell_type": "code",
   "execution_count": 6,
   "metadata": {},
   "outputs": [
    {
     "data": {
      "text/plain": [
       "True"
      ]
     },
     "execution_count": 6,
     "metadata": {},
     "output_type": "execute_result"
    }
   ],
   "source": [
    "eval(repr(lst)) == lst\n",
    "# eval-запускает код"
   ]
  },
  {
   "cell_type": "code",
   "execution_count": 18,
   "metadata": {},
   "outputs": [],
   "source": [
    "from datetime import datetime\n",
    "\n",
    "dt= datetime.now()"
   ]
  },
  {
   "cell_type": "code",
   "execution_count": 19,
   "metadata": {},
   "outputs": [
    {
     "data": {
      "text/plain": [
       "'datetime.datetime(2022, 1, 15, 23, 24, 30, 667398)'"
      ]
     },
     "execution_count": 19,
     "metadata": {},
     "output_type": "execute_result"
    }
   ],
   "source": [
    "repr(dt)"
   ]
  },
  {
   "cell_type": "code",
   "execution_count": 20,
   "metadata": {},
   "outputs": [
    {
     "name": "stdout",
     "output_type": "stream",
     "text": [
      "2022-01-15 23:24:30.667398\n"
     ]
    }
   ],
   "source": [
    "print(dt)"
   ]
  },
  {
   "cell_type": "code",
   "execution_count": 1,
   "metadata": {},
   "outputs": [],
   "source": [
    "class Character:\n",
    "\n",
    "\tdef __init__(self, race, damage = 100):\n",
    "\t\tself.race = race\n",
    "\t\tself.damage = damage\n",
    "\n",
    "\tdef __repr__(self):\n",
    "\t\treturn f\"Character('{self.race}', {self.damage})\"\n",
    "\n",
    "\tdef __str__(self):\n",
    "\t\treturn f'{self.race} with damage = {self.damage}' "
   ]
  },
  {
   "cell_type": "code",
   "execution_count": 2,
   "metadata": {},
   "outputs": [
    {
     "data": {
      "text/plain": [
       "Character('Elf', 100)"
      ]
     },
     "execution_count": 2,
     "metadata": {},
     "output_type": "execute_result"
    }
   ],
   "source": [
    "c = Character('Elf')\n",
    "c"
   ]
  },
  {
   "cell_type": "code",
   "execution_count": 3,
   "metadata": {},
   "outputs": [
    {
     "name": "stdout",
     "output_type": "stream",
     "text": [
      "Elf with damage = 100\n"
     ]
    }
   ],
   "source": [
    "print(c)"
   ]
  },
  {
   "cell_type": "code",
   "execution_count": 4,
   "metadata": {},
   "outputs": [
    {
     "data": {
      "text/plain": [
       "__main__.Character"
      ]
     },
     "execution_count": 4,
     "metadata": {},
     "output_type": "execute_result"
    }
   ],
   "source": [
    "d = eval(repr(c))\n",
    "type(d)"
   ]
  },
  {
   "cell_type": "code",
   "execution_count": 5,
   "metadata": {},
   "outputs": [
    {
     "name": "stdout",
     "output_type": "stream",
     "text": [
      "Elf with damage = 100\n"
     ]
    }
   ],
   "source": [
    "print(d)"
   ]
  },
  {
   "cell_type": "code",
   "execution_count": 6,
   "metadata": {},
   "outputs": [
    {
     "data": {
      "text/plain": [
       "False"
      ]
     },
     "execution_count": 6,
     "metadata": {},
     "output_type": "execute_result"
    }
   ],
   "source": [
    "c == d"
   ]
  },
  {
   "cell_type": "code",
   "execution_count": 29,
   "metadata": {},
   "outputs": [],
   "source": [
    "# Чтобы это изменить-мы добавим __eq__ :\n",
    "class Character:\n",
    "\n",
    "\tdef __init__(self, race, damage = 100):\n",
    "\t\tself.race = race\n",
    "\t\tself.damage = damage\n",
    "\n",
    "\tdef __repr__(self):\n",
    "\t\treturn f\"Character('{self.race}', {self.damage})\"\n",
    "\n",
    "\tdef __str__(self):\n",
    "\t\treturn f'{self.race} with damage = {self.damage}' \n",
    "\n",
    "\tdef __eq__(self, other):\n",
    "\t\tif isinstance(other, Character):\n",
    "\t\t\treturn self.race == other.race and self.damage == other.damage\n",
    "\t\treturn False"
   ]
  },
  {
   "cell_type": "code",
   "execution_count": 30,
   "metadata": {},
   "outputs": [
    {
     "data": {
      "text/plain": [
       "True"
      ]
     },
     "execution_count": 30,
     "metadata": {},
     "output_type": "execute_result"
    }
   ],
   "source": [
    "c = Character('Elf')\n",
    "d = eval(repr(c))\n",
    "type(d)\n",
    "c == d"
   ]
  },
  {
   "cell_type": "code",
   "execution_count": 31,
   "metadata": {},
   "outputs": [],
   "source": [
    " # *    ПЛЮС:\n",
    "class Character:\n",
    "\n",
    "\tdef __init__(self, race, damage = 100):\n",
    "\t\tself.race = race\n",
    "\t\tself.damage = damage\n",
    "\n",
    "#\tdef __repr__(self):\n",
    "#\t\treturn f\"Character('{self.race}', {self.damage})\"\n",
    "\n",
    "\tdef __str__(self):\n",
    "\t\treturn f'{self.race} with damage = {self.damage}' \n",
    "\n",
    "\tdef __eq__(self, other):\n",
    "\t\tif isinstance(other, Character):\n",
    "\t\t\treturn self.race == other.race and self.damage == other.damage\n",
    "\t\treturn False"
   ]
  },
  {
   "cell_type": "code",
   "execution_count": 32,
   "metadata": {},
   "outputs": [
    {
     "data": {
      "text/plain": [
       "<__main__.Character at 0x1fcdf515810>"
      ]
     },
     "execution_count": 32,
     "metadata": {},
     "output_type": "execute_result"
    }
   ],
   "source": [
    "c = Character('Elf')\n",
    "c                   # Результат такой,потому что нету repr'а"
   ]
  },
  {
   "cell_type": "code",
   "execution_count": 33,
   "metadata": {},
   "outputs": [],
   "source": [
    " # *        Снова ПЛЮС:\n",
    "class Character:\n",
    "\n",
    "\tdef __init__(self, race, damage = 100):\n",
    "\t\tself.race = race\n",
    "\t\tself.damage = damage\n",
    "\n",
    "\tdef __repr__(self):\n",
    "\t\treturn f\"Character('{self.race}', {self.damage})\"\n",
    "\n",
    "#\tdef __str__(self):\n",
    "#\t\treturn f'{self.race} with damage = {self.damage}' \n",
    "\n",
    "\tdef __eq__(self, other):\n",
    "\t\tif isinstance(other, Character):\n",
    "\t\t\treturn self.race == other.race and self.damage == other.damage\n",
    "\t\treturn False"
   ]
  },
  {
   "cell_type": "code",
   "execution_count": 36,
   "metadata": {},
   "outputs": [
    {
     "data": {
      "text/plain": [
       "Character('Elf', 100)"
      ]
     },
     "execution_count": 36,
     "metadata": {},
     "output_type": "execute_result"
    }
   ],
   "source": [
    "c = Character('Elf')\n",
    "c                   # Хоть print'a и нету,есть repr"
   ]
  },
  {
   "cell_type": "code",
   "execution_count": 37,
   "metadata": {},
   "outputs": [],
   "source": [
    " #! Если бы у меня был PYTHON 2,то вместе с eq-я бы должен бы сделать ne.\n",
    " #! Почему:потому что в python 2 eq-это оператор == ,а ne-это оператор !="
   ]
  },
  {
   "cell_type": "code",
   "execution_count": null,
   "metadata": {},
   "outputs": [],
   "source": []
  }
 ],
 "metadata": {
  "interpreter": {
   "hash": "81d0071eb0c7a3fd104fe6b7c250957c736efbd42ce2420051cf192df9a8835a"
  },
  "kernelspec": {
   "display_name": "Python 3.10.1 64-bit",
   "language": "python",
   "name": "python3"
  },
  "language_info": {
   "codemirror_mode": {
    "name": "ipython",
    "version": 3
   },
   "file_extension": ".py",
   "mimetype": "text/x-python",
   "name": "python",
   "nbconvert_exporter": "python",
   "pygments_lexer": "ipython3",
   "version": "3.10.1"
  },
  "orig_nbformat": 4
 },
 "nbformat": 4,
 "nbformat_minor": 2
}
