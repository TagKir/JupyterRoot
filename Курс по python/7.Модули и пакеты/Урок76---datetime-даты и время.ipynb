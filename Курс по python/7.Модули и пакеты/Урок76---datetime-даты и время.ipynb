{
 "cells": [
  {
   "cell_type": "code",
   "execution_count": null,
   "metadata": {},
   "outputs": [],
   "source": [
    " # * ДОП ИНФОРМАЦИЯ: https://all-python.ru/osnovy/modul-datetime.html#datetime"
   ]
  },
  {
   "cell_type": "code",
   "execution_count": 48,
   "metadata": {},
   "outputs": [],
   "source": [
    "from datetime import datetime,date,time,timedelta"
   ]
  },
  {
   "cell_type": "code",
   "execution_count": 3,
   "metadata": {},
   "outputs": [
    {
     "name": "stdout",
     "output_type": "stream",
     "text": [
      "2019-03-12\n",
      "2019\n",
      "3\n",
      "12\n"
     ]
    }
   ],
   "source": [
    "d1 = date(2019, 3, 12)\n",
    "print(d1)\n",
    "print(d1.year)\n",
    "print(d1.month)\n",
    "print(d1.day)"
   ]
  },
  {
   "cell_type": "code",
   "execution_count": 4,
   "metadata": {},
   "outputs": [
    {
     "name": "stdout",
     "output_type": "stream",
     "text": [
      "23:10:59\n",
      "23\n",
      "10\n",
      "59\n"
     ]
    }
   ],
   "source": [
    "t1 = time(23, 10, 59)\n",
    "print(t1)\n",
    "print(t1.hour)\n",
    "print(t1.minute)\n",
    "print(t1.second)"
   ]
  },
  {
   "cell_type": "code",
   "execution_count": 5,
   "metadata": {},
   "outputs": [
    {
     "name": "stdout",
     "output_type": "stream",
     "text": [
      "2022-01-06\n"
     ]
    }
   ],
   "source": [
    "print(date.today())#<--- выводит сегодняшний день"
   ]
  },
  {
   "cell_type": "code",
   "execution_count": 6,
   "metadata": {},
   "outputs": [
    {
     "name": "stdout",
     "output_type": "stream",
     "text": [
      "9999-12-31\n",
      "0001-01-01\n",
      "23:59:59.999999\n",
      "00:00:00\n"
     ]
    }
   ],
   "source": [
    "print(date.max)\n",
    "print(date.min)\n",
    "print(time.max)\n",
    "print(time.min)"
   ]
  },
  {
   "cell_type": "code",
   "execution_count": 7,
   "metadata": {},
   "outputs": [
    {
     "name": "stdout",
     "output_type": "stream",
     "text": [
      "2019-03-12 15:17:00\n"
     ]
    }
   ],
   "source": [
    "dt=datetime(2019, 3, 12, 15, 17)\n",
    "print(dt)"
   ]
  },
  {
   "cell_type": "code",
   "execution_count": 8,
   "metadata": {},
   "outputs": [
    {
     "name": "stdout",
     "output_type": "stream",
     "text": [
      "9999-12-31 23:59:59.999999\n",
      "НО:\n"
     ]
    },
    {
     "data": {
      "text/plain": [
       "datetime.datetime(9999, 12, 31, 23, 59, 59, 999999)"
      ]
     },
     "execution_count": 8,
     "metadata": {},
     "output_type": "execute_result"
    }
   ],
   "source": [
    "print(datetime.max)\n",
    "\n",
    "print('НО:') #* НО:\n",
    "\n",
    "datetime.max"
   ]
  },
  {
   "cell_type": "code",
   "execution_count": 9,
   "metadata": {},
   "outputs": [
    {
     "name": "stdout",
     "output_type": "stream",
     "text": [
      "0001-01-01 00:00:00\n",
      "НО:\n"
     ]
    },
    {
     "data": {
      "text/plain": [
       "datetime.datetime(1, 1, 1, 0, 0)"
      ]
     },
     "execution_count": 9,
     "metadata": {},
     "output_type": "execute_result"
    }
   ],
   "source": [
    "print(datetime.min)\n",
    "\n",
    "print('НО:') #* НО:\n",
    "\n",
    "datetime.min"
   ]
  },
  {
   "cell_type": "code",
   "execution_count": 10,
   "metadata": {},
   "outputs": [
    {
     "name": "stdout",
     "output_type": "stream",
     "text": [
      "2022-01-06 21:51:32.916316\n"
     ]
    }
   ],
   "source": [
    "print(datetime.now())"
   ]
  },
  {
   "cell_type": "code",
   "execution_count": 11,
   "metadata": {},
   "outputs": [
    {
     "name": "stdout",
     "output_type": "stream",
     "text": [
      "2022\n",
      "32\n"
     ]
    }
   ],
   "source": [
    "print(datetime.now().year)\n",
    "print(datetime.now().second)"
   ]
  },
  {
   "cell_type": "code",
   "execution_count": 16,
   "metadata": {},
   "outputs": [
    {
     "name": "stdout",
     "output_type": "stream",
     "text": [
      "2020-01-06 21:52:02.332754\n"
     ]
    }
   ],
   "source": [
    "now = datetime.now()\n",
    "new_dt = now.replace(year=2020)\n",
    "print(new_dt)"
   ]
  },
  {
   "cell_type": "code",
   "execution_count": 17,
   "metadata": {},
   "outputs": [
    {
     "name": "stdout",
     "output_type": "stream",
     "text": [
      "2022-01-06 21:52:02.332754\n"
     ]
    }
   ],
   "source": [
    "print(now)"
   ]
  },
  {
   "cell_type": "code",
   "execution_count": 31,
   "metadata": {},
   "outputs": [
    {
     "name": "stdout",
     "output_type": "stream",
     "text": [
      "2022-01-06 00:00:00\n",
      "2022-01-06 21:58:00\n",
      "2022-01-06 22:04:43\n",
      "2022-01-06 00:00:00\n"
     ]
    }
   ],
   "source": [
    "dt = datetime.strptime('06/01/2022', \"%d/%m/%Y\")#  %d-day, %m-month, %Y-year(4 числа:2022), %y-year(2 числа:22)\n",
    "print(dt)\n",
    "\n",
    "dt = datetime.strptime('06/01/2022 21:58', '%d/%m/%Y %H:%M')\n",
    "print(dt)\n",
    "\n",
    "dt = datetime.strptime('01-06-2022 22:04:43', '%m-%d-%Y %H:%M:%S')\n",
    "print(dt)\n",
    "\n",
    "dt = datetime.strptime('2022-01-06', '%Y-%m-%d')\n",
    "print(dt)"
   ]
  },
  {
   "cell_type": "code",
   "execution_count": 36,
   "metadata": {},
   "outputs": [
    {
     "name": "stdout",
     "output_type": "stream",
     "text": [
      "2022-01-06 00:00:00\n"
     ]
    }
   ],
   "source": [
    " # * ДОП:\n",
    "dt = datetime.strptime('06/01/22', \"%d/%m/%y\")\n",
    "print(dt)"
   ]
  },
  {
   "cell_type": "code",
   "execution_count": 37,
   "metadata": {},
   "outputs": [
    {
     "data": {
      "text/plain": [
       "'Russian_Russia.1251'"
      ]
     },
     "execution_count": 37,
     "metadata": {},
     "output_type": "execute_result"
    }
   ],
   "source": [
    "import locale\n",
    "locale.setlocale(locale.LC_ALL, \"\")"
   ]
  },
  {
   "cell_type": "code",
   "execution_count": 40,
   "metadata": {},
   "outputs": [
    {
     "name": "stdout",
     "output_type": "stream",
     "text": [
      "2022-01-06 (Чт)\n",
      "2022 Январь 06 число (четверг)\n"
     ]
    }
   ],
   "source": [
    "now = datetime.now()\n",
    "print(now.strftime('%Y-%m-%d (%a)'))\n",
    "print(now.strftime('%Y %B %d число (%A)'))#* %B-полный месяц, %b-неполный месяц, %A-полное число, %a-неполное число\n"
   ]
  },
  {
   "cell_type": "code",
   "execution_count": 41,
   "metadata": {},
   "outputs": [
    {
     "name": "stdout",
     "output_type": "stream",
     "text": [
      "3 days, 2:10:00\n"
     ]
    }
   ],
   "source": [
    "delta1 = timedelta(days=3, hours=2, minutes=10)\n",
    "print(delta1)"
   ]
  },
  {
   "cell_type": "code",
   "execution_count": 42,
   "metadata": {},
   "outputs": [],
   "source": [
    "delta2 = timedelta(days=2, hours=1, minutes=5)"
   ]
  },
  {
   "cell_type": "code",
   "execution_count": 43,
   "metadata": {},
   "outputs": [
    {
     "name": "stdout",
     "output_type": "stream",
     "text": [
      "1 day, 1:05:00\n",
      "-2 days, 22:55:00\n"
     ]
    }
   ],
   "source": [
    "print(delta1-delta2)\n",
    "print(delta2-delta1)"
   ]
  },
  {
   "cell_type": "code",
   "execution_count": 45,
   "metadata": {},
   "outputs": [
    {
     "name": "stdout",
     "output_type": "stream",
     "text": [
      "<class 'datetime.timedelta'>\n",
      "12\n"
     ]
    }
   ],
   "source": [
    "my_birthday = date(2009, 5, 18)\n",
    "\n",
    "delta = date.today() - my_birthday\n",
    "print(type(delta))\n",
    "\n",
    "my_age = int(delta.days/365)\n",
    "print(my_age)"
   ]
  },
  {
   "cell_type": "code",
   "execution_count": 47,
   "metadata": {},
   "outputs": [
    {
     "name": "stdout",
     "output_type": "stream",
     "text": [
      "True\n"
     ]
    }
   ],
   "source": [
    "mom_birthday = date(1978, 8, 11)\n",
    "\n",
    "is_she_older = mom_birthday < my_birthday\n",
    "print(is_she_older)"
   ]
  },
  {
   "cell_type": "code",
   "execution_count": null,
   "metadata": {},
   "outputs": [],
   "source": []
  }
 ],
 "metadata": {
  "interpreter": {
   "hash": "81d0071eb0c7a3f04fe6b7c250957c736efbd42ce2420051cf192df9a8835a"
  },
  "kernelspec": {
   "display_name": "Python 3.10.1 64-bit",
   "language": "python",
   "name": "python3"
  },
  "language_info": {
   "codemirror_mode": {
    "name": "ipython",
    "version": 3
   },
   "file_extension": ".py",
   "mimetype": "text/x-python",
   "name": "python",
   "nbconvert_exporter": "python",
   "pygments_lexer": "ipython3",
   "version": "3.10.1"
  },
  "orig_nbformat": 4
 },
 "nbformat": 4,
 "nbformat_minor": 2
}
