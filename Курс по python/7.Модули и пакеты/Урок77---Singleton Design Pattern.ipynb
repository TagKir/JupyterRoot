{
 "cells": [
  {
   "cell_type": "code",
   "execution_count": 1,
   "metadata": {},
   "outputs": [],
   "source": [
    "class Character:\n",
    "\n",
    "\tdef __init__(self):\n",
    "\t\tself.race = 'Elf'\n"
   ]
  },
  {
   "cell_type": "code",
   "execution_count": 3,
   "metadata": {},
   "outputs": [
    {
     "data": {
      "text/plain": [
       "'Elf'"
      ]
     },
     "execution_count": 3,
     "metadata": {},
     "output_type": "execute_result"
    }
   ],
   "source": [
    "c = Character()\n",
    "c.race"
   ]
  },
  {
   "cell_type": "code",
   "execution_count": 1,
   "metadata": {},
   "outputs": [],
   "source": [
    "class Character:\n",
    "\n",
    "\tdef __new__(cls):\n",
    "\t\treturn super().__new__(cls)# <--- Это то же самое что и просто pass\n",
    "\n",
    "\tdef __init__(self) :\n",
    "\t\tself.race = \"Elf\"\n"
   ]
  },
  {
   "cell_type": "code",
   "execution_count": 6,
   "metadata": {},
   "outputs": [
    {
     "data": {
      "text/plain": [
       "'Elf'"
      ]
     },
     "execution_count": 6,
     "metadata": {},
     "output_type": "execute_result"
    }
   ],
   "source": [
    "c = Character()\n",
    "c.race\n",
    "# Но __new__ вызывается перед __init__"
   ]
  },
  {
   "cell_type": "code",
   "execution_count": 7,
   "metadata": {},
   "outputs": [],
   "source": [
    "# Сейчас мы будем изучать Pattern-Singleton"
   ]
  },
  {
   "cell_type": "code",
   "execution_count": 8,
   "metadata": {},
   "outputs": [],
   "source": [
    "class Character:\n",
    "\n",
    "\t_instance = None\n",
    "\n",
    "\tdef __new__(cls):\n",
    "\t\tif not cls._instance:\n",
    "\t\t\tcls._instance = super().__new__(cls)\n",
    "\t\treturn cls._instance\n",
    "\n",
    "\tdef __init__(self) -> None:\n",
    "\t\tself.race = \"Elf\""
   ]
  },
  {
   "cell_type": "code",
   "execution_count": 9,
   "metadata": {},
   "outputs": [
    {
     "data": {
      "text/plain": [
       "'Elf'"
      ]
     },
     "execution_count": 9,
     "metadata": {},
     "output_type": "execute_result"
    }
   ],
   "source": [
    "c = Character()\n",
    "c.race"
   ]
  },
  {
   "cell_type": "code",
   "execution_count": 10,
   "metadata": {},
   "outputs": [],
   "source": [
    "d = Character()\n",
    "d.race = 'Ork'"
   ]
  },
  {
   "cell_type": "code",
   "execution_count": 11,
   "metadata": {},
   "outputs": [
    {
     "name": "stdout",
     "output_type": "stream",
     "text": [
      "Ork\n",
      "Ork\n"
     ]
    }
   ],
   "source": [
    "print(c.race)\n",
    "print(d.race)"
   ]
  },
  {
   "cell_type": "code",
   "execution_count": null,
   "metadata": {},
   "outputs": [],
   "source": []
  }
 ],
 "metadata": {
  "kernelspec": {
   "display_name": "Python 3.10.4 64-bit",
   "language": "python",
   "name": "python3"
  },
  "language_info": {
   "codemirror_mode": {
    "name": "ipython",
    "version": 3
   },
   "file_extension": ".py",
   "mimetype": "text/x-python",
   "name": "python",
   "nbconvert_exporter": "python",
   "pygments_lexer": "ipython3",
   "version": "3.10.4"
  },
  "orig_nbformat": 4,
  "vscode": {
   "interpreter": {
    "hash": "e895b1eccb3ac1bc3ee41face7b3a6edceb1825a6134b8d6cd6248216b77e5a1"
   }
  }
 },
 "nbformat": 4,
 "nbformat_minor": 2
}
